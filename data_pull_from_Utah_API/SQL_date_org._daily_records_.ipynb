{
 "cells": [
  {
   "cell_type": "code",
   "execution_count": null,
   "id": "2c56d190-eb52-4292-b8c1-d7cb455956e4",
   "metadata": {},
   "outputs": [],
   "source": [
    "import pyodbc\n",
    "import pandas as pd\n",
    "\n",
    "# Database connection parameters\n",
    "server = 'wrt-sql-prod'\n",
    "database = 'dvrtDB'\n",
    "username = 'wrtsqlq'\n",
    "password = 'guest'\n",
    "\n",
    "# Establish connection and fetch data\n",
    "with pyodbc.connect(\n",
    "    f\"DRIVER={{ODBC Driver 17 for SQL Server}};\"\n",
    "    f\"SERVER={server};\"\n",
    "    f\"DATABASE={database};\"\n",
    "    f\"UID={username};\"\n",
    "    f\"PWD={password}\"\n",
    ") as conn:\n",
    "    query = \"SELECT * FROM dbo.DAILY_RECORDS WHERE STATION_ID = 10987\"\n",
    "    df = pd.read_sql_query(query, conn)\n",
    "\n",
    "# Extract day columns dynamically\n",
    "day_columns = [col for col in df.columns if col.startswith('RV_')]\n",
    "\n",
    "# Create a list to hold processed rows\n",
    "processed_rows = []\n",
    "\n",
    "# Iterate over rows and day columns to build a structured DataFrame\n",
    "for _, row in df.iterrows():\n",
    "    year = row['RECORD_YEAR']\n",
    "    for day_col in day_columns:\n",
    "        day_str = day_col[3:]  # Extract day string like '0101'\n",
    "        try:\n",
    "            date = pd.to_datetime(f\"{year}{day_str}\", format='%Y%m%d')\n",
    "            discharge = row[day_col]  # Keep original value, including NaN/NULL\n",
    "            processed_rows.append({'DATE': date, 'DISCHARGE': discharge})\n",
    "        except ValueError:\n",
    "            processed_rows.append({'DATE': None, 'DISCHARGE': row[day_col]})  # Keep discharge even if date is invalid\n",
    "\n",
    "# Create a new DataFrame\n",
    "processed_df = pd.DataFrame(processed_rows)\n",
    "\n",
    "# Export to CSV\n",
    "#processed_df.to_csv('daily_discharge_data.csv', index=False)"
   ]
  }
 ],
 "metadata": {
  "kernelspec": {
   "display_name": "Python 3 (ipykernel)",
   "language": "python",
   "name": "python3"
  },
  "language_info": {
   "codemirror_mode": {
    "name": "ipython",
    "version": 3
   },
   "file_extension": ".py",
   "mimetype": "text/x-python",
   "name": "python",
   "nbconvert_exporter": "python",
   "pygments_lexer": "ipython3",
   "version": "3.12.7"
  }
 },
 "nbformat": 4,
 "nbformat_minor": 5
}
