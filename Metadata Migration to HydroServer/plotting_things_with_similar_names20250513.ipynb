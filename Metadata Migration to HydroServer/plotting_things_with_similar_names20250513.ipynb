{
 "cells": [
  {
   "cell_type": "markdown",
   "id": "4598588a-3d76-45a3-a33e-043577511bde",
   "metadata": {},
   "source": [
    "### Code that plots all the similar name stations with no reservior stations included"
   ]
  },
  {
   "cell_type": "code",
   "execution_count": null,
   "id": "0c9a5726-b5c9-4ec5-bc45-1ae2fb9504bd",
   "metadata": {},
   "outputs": [],
   "source": [
    "import pandas as pd\n",
    "import requests\n",
    "from datetime import datetime\n",
    "import plotly.graph_objects as go\n",
    "\n",
    "# === Load the file ===\n",
    "df_things = pd.read_csv(\"Things_with_similar_names_no_reservoir.csv\")\n",
    "\n",
    "# === Get unique identifiers ===\n",
    "unique_identifiers = df_things[\"identifier\"].dropna().unique()\n",
    "\n",
    "# === Build name lookup for pretty labels ===\n",
    "df_things[\"dvrt_station_id\"] = df_things[\"dvrt_station_id\"].astype(str)\n",
    "station_name_lookup = dict(zip(df_things[\"dvrt_station_id\"], df_things[\"thing_name\"]))\n",
    "\n",
    "# === Loop through each identifier group ===\n",
    "end_date = datetime.today().strftime(\"%Y-%m-%d\")\n",
    "\n",
    "for ident in unique_identifiers:\n",
    "    group_df = df_things[df_things[\"identifier\"] == ident]\n",
    "    station_ids = group_df[\"dvrt_station_id\"].unique()\n",
    "\n",
    "    data_dict = {}\n",
    "\n",
    "    # --- Download data ---\n",
    "    for station_id in station_ids:\n",
    "        url = f\"https://www.waterrights.utah.gov/dvrtdb/daily-chart.asp?station_id={station_id}&end_date={end_date}&f=json\"\n",
    "        try:\n",
    "            r = requests.get(url)\n",
    "            if r.status_code == 200:\n",
    "                json_data = r.json()\n",
    "                if \"data\" in json_data:\n",
    "                    df = pd.DataFrame(json_data[\"data\"], columns=[\"date\", \"value\"])\n",
    "                    df[\"date\"] = pd.to_datetime(df[\"date\"])\n",
    "                    df[\"value\"] = pd.to_numeric(df[\"value\"], errors=\"coerce\")\n",
    "                    df = df.set_index(\"date\").rename(columns={\"value\": station_id})\n",
    "                    data_dict[station_id] = df\n",
    "        except Exception as e:\n",
    "            print(f\"Error fetching data for station {station_id}: {e}\")\n",
    "\n",
    "    # --- Skip if no data ---\n",
    "    if not data_dict:\n",
    "        continue\n",
    "\n",
    "    # --- Combine into single DataFrame ---\n",
    "    df_all = pd.concat(data_dict.values(), axis=1)\n",
    "    df_all = df_all.interpolate(limit_direction=\"both\")\n",
    "\n",
    "    # --- Plot ---\n",
    "    fig = go.Figure()\n",
    "    for station_id in df_all.columns:\n",
    "        fig.add_trace(go.Scatter(\n",
    "            x=df_all.index,\n",
    "            y=df_all[station_id],\n",
    "            mode=\"lines\",\n",
    "            name=f\"{station_name_lookup.get(station_id, 'Unknown')} ({station_id})\",\n",
    "            connectgaps=False\n",
    "        ))\n",
    "\n",
    "    fig.update_layout(\n",
    "        title=f\"Identifier Group: {ident}\",\n",
    "        xaxis_title=\"Date\",\n",
    "        yaxis_title=\"Discharge (CFS)\",\n",
    "        template=\"plotly_white\",\n",
    "        width=1200,\n",
    "        height=600\n",
    "    )\n",
    "\n",
    "    fig.show()"
   ]
  },
  {
   "cell_type": "code",
   "execution_count": null,
   "id": "0c1c02d0-e5fc-4695-8240-81d07db86619",
   "metadata": {},
   "outputs": [],
   "source": []
  }
 ],
 "metadata": {
  "kernelspec": {
   "display_name": "Python 3 (ipykernel)",
   "language": "python",
   "name": "python3"
  },
  "language_info": {
   "codemirror_mode": {
    "name": "ipython",
    "version": 3
   },
   "file_extension": ".py",
   "mimetype": "text/x-python",
   "name": "python",
   "nbconvert_exporter": "python",
   "pygments_lexer": "ipython3",
   "version": "3.12.7"
  }
 },
 "nbformat": 4,
 "nbformat_minor": 5
}
