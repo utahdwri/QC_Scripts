{
 "cells": [
  {
   "cell_type": "code",
   "execution_count": 1,
   "id": "ef6d7b67-6814-4e6a-8f82-08a78d6664e4",
   "metadata": {},
   "outputs": [
    {
     "name": "stdout",
     "output_type": "stream",
     "text": [
      "Requirement already satisfied: google-api-python-client in c:\\users\\pbenko\\appdata\\local\\anaconda3\\lib\\site-packages (2.161.0)\n",
      "Requirement already satisfied: google-auth-httplib2 in c:\\users\\pbenko\\appdata\\local\\anaconda3\\lib\\site-packages (0.2.0)\n",
      "Requirement already satisfied: google-auth-oauthlib in c:\\users\\pbenko\\appdata\\local\\anaconda3\\lib\\site-packages (1.2.1)\n",
      "Requirement already satisfied: httplib2<1.dev0,>=0.19.0 in c:\\users\\pbenko\\appdata\\local\\anaconda3\\lib\\site-packages (from google-api-python-client) (0.22.0)\n",
      "Requirement already satisfied: google-auth!=2.24.0,!=2.25.0,<3.0.0.dev0,>=1.32.0 in c:\\users\\pbenko\\appdata\\local\\anaconda3\\lib\\site-packages (from google-api-python-client) (2.38.0)\n",
      "Requirement already satisfied: google-api-core!=2.0.*,!=2.1.*,!=2.2.*,!=2.3.0,<3.0.0.dev0,>=1.31.5 in c:\\users\\pbenko\\appdata\\local\\anaconda3\\lib\\site-packages (from google-api-python-client) (2.24.1)\n",
      "Requirement already satisfied: uritemplate<5,>=3.0.1 in c:\\users\\pbenko\\appdata\\local\\anaconda3\\lib\\site-packages (from google-api-python-client) (4.1.1)\n",
      "Requirement already satisfied: requests-oauthlib>=0.7.0 in c:\\users\\pbenko\\appdata\\local\\anaconda3\\lib\\site-packages (from google-auth-oauthlib) (2.0.0)\n",
      "Requirement already satisfied: googleapis-common-protos<2.0.dev0,>=1.56.2 in c:\\users\\pbenko\\appdata\\local\\anaconda3\\lib\\site-packages (from google-api-core!=2.0.*,!=2.1.*,!=2.2.*,!=2.3.0,<3.0.0.dev0,>=1.31.5->google-api-python-client) (1.67.0)\n",
      "Requirement already satisfied: protobuf!=3.20.0,!=3.20.1,!=4.21.0,!=4.21.1,!=4.21.2,!=4.21.3,!=4.21.4,!=4.21.5,<6.0.0.dev0,>=3.19.5 in c:\\users\\pbenko\\appdata\\local\\anaconda3\\lib\\site-packages (from google-api-core!=2.0.*,!=2.1.*,!=2.2.*,!=2.3.0,<3.0.0.dev0,>=1.31.5->google-api-python-client) (4.25.3)\n",
      "Requirement already satisfied: proto-plus<2.0.0dev,>=1.22.3 in c:\\users\\pbenko\\appdata\\local\\anaconda3\\lib\\site-packages (from google-api-core!=2.0.*,!=2.1.*,!=2.2.*,!=2.3.0,<3.0.0.dev0,>=1.31.5->google-api-python-client) (1.26.0)\n",
      "Requirement already satisfied: requests<3.0.0.dev0,>=2.18.0 in c:\\users\\pbenko\\appdata\\local\\anaconda3\\lib\\site-packages (from google-api-core!=2.0.*,!=2.1.*,!=2.2.*,!=2.3.0,<3.0.0.dev0,>=1.31.5->google-api-python-client) (2.32.3)\n",
      "Requirement already satisfied: cachetools<6.0,>=2.0.0 in c:\\users\\pbenko\\appdata\\local\\anaconda3\\lib\\site-packages (from google-auth!=2.24.0,!=2.25.0,<3.0.0.dev0,>=1.32.0->google-api-python-client) (5.3.3)\n",
      "Requirement already satisfied: pyasn1-modules>=0.2.1 in c:\\users\\pbenko\\appdata\\local\\anaconda3\\lib\\site-packages (from google-auth!=2.24.0,!=2.25.0,<3.0.0.dev0,>=1.32.0->google-api-python-client) (0.2.8)\n",
      "Requirement already satisfied: rsa<5,>=3.1.4 in c:\\users\\pbenko\\appdata\\local\\anaconda3\\lib\\site-packages (from google-auth!=2.24.0,!=2.25.0,<3.0.0.dev0,>=1.32.0->google-api-python-client) (4.9)\n",
      "Requirement already satisfied: pyparsing!=3.0.0,!=3.0.1,!=3.0.2,!=3.0.3,<4,>=2.4.2 in c:\\users\\pbenko\\appdata\\local\\anaconda3\\lib\\site-packages (from httplib2<1.dev0,>=0.19.0->google-api-python-client) (3.1.2)\n",
      "Requirement already satisfied: oauthlib>=3.0.0 in c:\\users\\pbenko\\appdata\\local\\anaconda3\\lib\\site-packages (from requests-oauthlib>=0.7.0->google-auth-oauthlib) (3.2.2)\n",
      "Requirement already satisfied: pyasn1<0.5.0,>=0.4.6 in c:\\users\\pbenko\\appdata\\local\\anaconda3\\lib\\site-packages (from pyasn1-modules>=0.2.1->google-auth!=2.24.0,!=2.25.0,<3.0.0.dev0,>=1.32.0->google-api-python-client) (0.4.8)\n",
      "Requirement already satisfied: charset-normalizer<4,>=2 in c:\\users\\pbenko\\appdata\\local\\anaconda3\\lib\\site-packages (from requests<3.0.0.dev0,>=2.18.0->google-api-core!=2.0.*,!=2.1.*,!=2.2.*,!=2.3.0,<3.0.0.dev0,>=1.31.5->google-api-python-client) (3.3.2)\n",
      "Requirement already satisfied: idna<4,>=2.5 in c:\\users\\pbenko\\appdata\\local\\anaconda3\\lib\\site-packages (from requests<3.0.0.dev0,>=2.18.0->google-api-core!=2.0.*,!=2.1.*,!=2.2.*,!=2.3.0,<3.0.0.dev0,>=1.31.5->google-api-python-client) (3.7)\n",
      "Requirement already satisfied: urllib3<3,>=1.21.1 in c:\\users\\pbenko\\appdata\\local\\anaconda3\\lib\\site-packages (from requests<3.0.0.dev0,>=2.18.0->google-api-core!=2.0.*,!=2.1.*,!=2.2.*,!=2.3.0,<3.0.0.dev0,>=1.31.5->google-api-python-client) (2.2.3)\n",
      "Requirement already satisfied: certifi>=2017.4.17 in c:\\users\\pbenko\\appdata\\local\\anaconda3\\lib\\site-packages (from requests<3.0.0.dev0,>=2.18.0->google-api-core!=2.0.*,!=2.1.*,!=2.2.*,!=2.3.0,<3.0.0.dev0,>=1.31.5->google-api-python-client) (2025.1.31)\n",
      "Note: you may need to restart the kernel to use updated packages.\n"
     ]
    }
   ],
   "source": [
    "pip install --upgrade google-api-python-client google-auth-httplib2 google-auth-oauthlib"
   ]
  },
  {
   "cell_type": "code",
   "execution_count": 2,
   "id": "85d4b567-3d55-4dfd-8a92-ad65ed59324e",
   "metadata": {},
   "outputs": [
    {
     "name": "stdout",
     "output_type": "stream",
     "text": [
      "Requirement already satisfied: pyodbc in c:\\users\\pbenko\\appdata\\local\\anaconda3\\lib\\site-packages (5.1.0)\n"
     ]
    }
   ],
   "source": [
    "!pip install pyodbc"
   ]
  },
  {
   "cell_type": "code",
   "execution_count": 13,
   "id": "de096b19-4665-4844-829a-b1e3266b2748",
   "metadata": {},
   "outputs": [],
   "source": [
    "import os\n",
    "import json\n",
    "from google.oauth2.credentials import Credentials\n",
    "from google_auth_oauthlib.flow import InstalledAppFlow\n",
    "from googleapiclient.discovery import build\n",
    "from googleapiclient.http import MediaFileUpload"
   ]
  },
  {
   "cell_type": "code",
   "execution_count": 14,
   "id": "5e62a0d4-4aed-44e9-8da4-f9a20acc20c7",
   "metadata": {},
   "outputs": [],
   "source": [
    "SCOPES = ['https://www.googleapis.com/auth/drive.file']"
   ]
  },
  {
   "cell_type": "code",
   "execution_count": 15,
   "id": "9fec06c4-9522-4ed5-b57e-240d565d0b54",
   "metadata": {},
   "outputs": [],
   "source": [
    "def authenticate():\n",
    "    creds = None\n",
    "    token_file = 'token.json'\n",
    "\n",
    "    if os.path.exists(token_file):\n",
    "        creds = Credentials.from_authorized_user_file(token_file, SCOPES)\n",
    "\n",
    "    if not creds or not creds.valid:\n",
    "        if creds and creds.expired and creds.refresh_token:\n",
    "            creds.refresh(Request())\n",
    "        else:\n",
    "            flow = InstalledAppFlow.from_client_secrets_file('credentials.json', SCOPES)\n",
    "            creds = flow.run_local_server(port=0)\n",
    "\n",
    "        with open(token_file, 'w') as token:\n",
    "            token.write(creds.to_json())\n",
    "\n",
    "    return creds"
   ]
  },
  {
   "cell_type": "code",
   "execution_count": 16,
   "id": "c31ba9ff-4e50-4bc5-9c34-94aa3bd09469",
   "metadata": {},
   "outputs": [],
   "source": [
    "def upload_to_drive(file_path, file_name):\n",
    "    creds = authenticate()\n",
    "    service = build('drive', 'v3', credentials=creds)\n",
    "\n",
    "    file_metadata = {'name': file_name}\n",
    "    media = MediaFileUpload(file_path, mimetype='text/csv')\n",
    "\n",
    "    file = service.files().create(body=file_metadata, media_body=media, fields='id').execute()\n",
    "    print(f\"File uploaded successfully. File ID: {file.get('id')}\")"
   ]
  },
  {
   "cell_type": "code",
   "execution_count": 17,
   "id": "0bb7794f-f74a-4ed8-b5c7-fcdde00c7e71",
   "metadata": {},
   "outputs": [
    {
     "name": "stdout",
     "output_type": "stream",
     "text": [
      "Error: File users.csv does not exist.\n"
     ]
    }
   ],
   "source": [
    "csv_file_path = 'users.csv'\n",
    "if not os.path.exists(csv_file_path):\n",
    "    print(f\"Error: File {csv_file_path} does not exist.\")\n",
    "else:\n",
    "    upload_to_drive(csv_file_path, os.path.basename(csv_file_path))"
   ]
  },
  {
   "cell_type": "code",
   "execution_count": 18,
   "id": "729e79a1-8863-4364-b7aa-b89cbe6e0edb",
   "metadata": {},
   "outputs": [
    {
     "name": "stdout",
     "output_type": "stream",
     "text": [
      "Name: google-auth\n",
      "Version: 2.38.0\n",
      "Summary: Google Authentication Library\n",
      "Home-page: https://github.com/googleapis/google-auth-library-python\n",
      "Author: Google Cloud Platform\n",
      "Author-email: googleapis-packages@google.com\n",
      "License: Apache 2.0\n",
      "Location: C:\\Users\\pbenko\\AppData\\Local\\anaconda3\\Lib\\site-packages\n",
      "Requires: cachetools, pyasn1-modules, rsa\n",
      "Required-by: google-api-core, google-api-python-client, google-auth-httplib2, google-auth-oauthlib\n",
      "Name: google-auth-oauthlib\n",
      "Version: 1.2.1\n",
      "Summary: Google Authentication Library\n",
      "Home-page: https://github.com/GoogleCloudPlatform/google-auth-library-python-oauthlib\n",
      "Author: Google Cloud Platform\n",
      "Author-email: googleapis-packages@google.com\n",
      "License: Apache 2.0\n",
      "Location: C:\\Users\\pbenko\\AppData\\Local\\anaconda3\\Lib\\site-packages\n",
      "Requires: google-auth, requests-oauthlib\n",
      "Required-by: \n",
      "Name: google-api-python-client\n",
      "Version: 2.161.0\n",
      "Summary: Google API Client Library for Python\n",
      "Home-page: https://github.com/googleapis/google-api-python-client/\n",
      "Author: Google LLC\n",
      "Author-email: googleapis-packages@google.com\n",
      "License: Apache 2.0\n",
      "Location: C:\\Users\\pbenko\\AppData\\Local\\anaconda3\\Lib\\site-packages\n",
      "Requires: google-api-core, google-auth, google-auth-httplib2, httplib2, uritemplate\n",
      "Required-by: \n"
     ]
    }
   ],
   "source": [
    "!pip show google-auth\n",
    "!pip show google-auth-oauthlib\n",
    "!pip show google-api-python-client"
   ]
  },
  {
   "cell_type": "code",
   "execution_count": 9,
   "id": "74d91e0a-bdf7-48cf-86a7-31ebf5586336",
   "metadata": {},
   "outputs": [
    {
     "name": "stdout",
     "output_type": "stream",
     "text": [
      "Requirement already satisfied: google-auth in c:\\users\\pbenko\\appdata\\local\\anaconda3\\lib\\site-packages (2.38.0)\n",
      "Requirement already satisfied: google-auth-oauthlib in c:\\users\\pbenko\\appdata\\local\\anaconda3\\lib\\site-packages (1.2.1)\n",
      "Requirement already satisfied: google-api-python-client in c:\\users\\pbenko\\appdata\\local\\anaconda3\\lib\\site-packages (2.161.0)\n",
      "Requirement already satisfied: cachetools<6.0,>=2.0.0 in c:\\users\\pbenko\\appdata\\local\\anaconda3\\lib\\site-packages (from google-auth) (5.3.3)\n",
      "Requirement already satisfied: pyasn1-modules>=0.2.1 in c:\\users\\pbenko\\appdata\\local\\anaconda3\\lib\\site-packages (from google-auth) (0.2.8)\n",
      "Requirement already satisfied: rsa<5,>=3.1.4 in c:\\users\\pbenko\\appdata\\local\\anaconda3\\lib\\site-packages (from google-auth) (4.9)\n",
      "Requirement already satisfied: requests-oauthlib>=0.7.0 in c:\\users\\pbenko\\appdata\\local\\anaconda3\\lib\\site-packages (from google-auth-oauthlib) (2.0.0)\n",
      "Requirement already satisfied: httplib2<1.dev0,>=0.19.0 in c:\\users\\pbenko\\appdata\\local\\anaconda3\\lib\\site-packages (from google-api-python-client) (0.22.0)\n",
      "Requirement already satisfied: google-auth-httplib2<1.0.0,>=0.2.0 in c:\\users\\pbenko\\appdata\\local\\anaconda3\\lib\\site-packages (from google-api-python-client) (0.2.0)\n",
      "Requirement already satisfied: google-api-core!=2.0.*,!=2.1.*,!=2.2.*,!=2.3.0,<3.0.0.dev0,>=1.31.5 in c:\\users\\pbenko\\appdata\\local\\anaconda3\\lib\\site-packages (from google-api-python-client) (2.24.1)\n",
      "Requirement already satisfied: uritemplate<5,>=3.0.1 in c:\\users\\pbenko\\appdata\\local\\anaconda3\\lib\\site-packages (from google-api-python-client) (4.1.1)\n",
      "Requirement already satisfied: googleapis-common-protos<2.0.dev0,>=1.56.2 in c:\\users\\pbenko\\appdata\\local\\anaconda3\\lib\\site-packages (from google-api-core!=2.0.*,!=2.1.*,!=2.2.*,!=2.3.0,<3.0.0.dev0,>=1.31.5->google-api-python-client) (1.67.0)\n",
      "Requirement already satisfied: protobuf!=3.20.0,!=3.20.1,!=4.21.0,!=4.21.1,!=4.21.2,!=4.21.3,!=4.21.4,!=4.21.5,<6.0.0.dev0,>=3.19.5 in c:\\users\\pbenko\\appdata\\local\\anaconda3\\lib\\site-packages (from google-api-core!=2.0.*,!=2.1.*,!=2.2.*,!=2.3.0,<3.0.0.dev0,>=1.31.5->google-api-python-client) (4.25.3)\n",
      "Requirement already satisfied: proto-plus<2.0.0dev,>=1.22.3 in c:\\users\\pbenko\\appdata\\local\\anaconda3\\lib\\site-packages (from google-api-core!=2.0.*,!=2.1.*,!=2.2.*,!=2.3.0,<3.0.0.dev0,>=1.31.5->google-api-python-client) (1.26.0)\n",
      "Requirement already satisfied: requests<3.0.0.dev0,>=2.18.0 in c:\\users\\pbenko\\appdata\\local\\anaconda3\\lib\\site-packages (from google-api-core!=2.0.*,!=2.1.*,!=2.2.*,!=2.3.0,<3.0.0.dev0,>=1.31.5->google-api-python-client) (2.32.3)\n",
      "Requirement already satisfied: pyparsing!=3.0.0,!=3.0.1,!=3.0.2,!=3.0.3,<4,>=2.4.2 in c:\\users\\pbenko\\appdata\\local\\anaconda3\\lib\\site-packages (from httplib2<1.dev0,>=0.19.0->google-api-python-client) (3.1.2)\n",
      "Requirement already satisfied: pyasn1<0.5.0,>=0.4.6 in c:\\users\\pbenko\\appdata\\local\\anaconda3\\lib\\site-packages (from pyasn1-modules>=0.2.1->google-auth) (0.4.8)\n",
      "Requirement already satisfied: oauthlib>=3.0.0 in c:\\users\\pbenko\\appdata\\local\\anaconda3\\lib\\site-packages (from requests-oauthlib>=0.7.0->google-auth-oauthlib) (3.2.2)\n",
      "Requirement already satisfied: charset-normalizer<4,>=2 in c:\\users\\pbenko\\appdata\\local\\anaconda3\\lib\\site-packages (from requests<3.0.0.dev0,>=2.18.0->google-api-core!=2.0.*,!=2.1.*,!=2.2.*,!=2.3.0,<3.0.0.dev0,>=1.31.5->google-api-python-client) (3.3.2)\n",
      "Requirement already satisfied: idna<4,>=2.5 in c:\\users\\pbenko\\appdata\\local\\anaconda3\\lib\\site-packages (from requests<3.0.0.dev0,>=2.18.0->google-api-core!=2.0.*,!=2.1.*,!=2.2.*,!=2.3.0,<3.0.0.dev0,>=1.31.5->google-api-python-client) (3.7)\n",
      "Requirement already satisfied: urllib3<3,>=1.21.1 in c:\\users\\pbenko\\appdata\\local\\anaconda3\\lib\\site-packages (from requests<3.0.0.dev0,>=2.18.0->google-api-core!=2.0.*,!=2.1.*,!=2.2.*,!=2.3.0,<3.0.0.dev0,>=1.31.5->google-api-python-client) (2.2.3)\n",
      "Requirement already satisfied: certifi>=2017.4.17 in c:\\users\\pbenko\\appdata\\local\\anaconda3\\lib\\site-packages (from requests<3.0.0.dev0,>=2.18.0->google-api-core!=2.0.*,!=2.1.*,!=2.2.*,!=2.3.0,<3.0.0.dev0,>=1.31.5->google-api-python-client) (2025.1.31)\n"
     ]
    }
   ],
   "source": [
    "!pip install google-auth google-auth-oauthlib google-api-python-client"
   ]
  },
  {
   "cell_type": "code",
   "execution_count": 19,
   "id": "dbd7c0eb-65de-4fcf-a29b-7e91fe9171f4",
   "metadata": {},
   "outputs": [
    {
     "name": "stdout",
     "output_type": "stream",
     "text": [
      "C:\\Users\\pbenko\\AppData\\Local\\anaconda3\\python.exe\n"
     ]
    }
   ],
   "source": [
    "import sys\n",
    "print(sys.executable)"
   ]
  },
  {
   "cell_type": "code",
   "execution_count": 20,
   "id": "32ae72d0-bd78-44d4-87bf-090ea1d0cbd0",
   "metadata": {},
   "outputs": [],
   "source": [
    "import pyodbc"
   ]
  },
  {
   "cell_type": "code",
   "execution_count": 21,
   "id": "a4fe1f54-06b9-48e1-90a2-9aed107e16be",
   "metadata": {},
   "outputs": [],
   "source": [
    "from googleapiclient.discovery import build\n",
    "from googleapiclient.http import MediaFileUpload\n",
    "from google_auth_oauthlib.flow import InstalledAppFlow\n",
    "import os"
   ]
  },
  {
   "cell_type": "code",
   "execution_count": 22,
   "id": "47025bd3-e0b4-4827-b2b1-0cc71d535174",
   "metadata": {},
   "outputs": [],
   "source": [
    "server = 'wrt-sql-prod'\n",
    "database = 'dvrtDB'\n",
    "username = 'wrtsqlq'\n",
    "password = 'guest'\n",
    "sql_file = 'test.sql'\n",
    "output_csv = 'query_results.csv'\n",
    "credentials_file = 'credentials.json'"
   ]
  },
  {
   "cell_type": "code",
   "execution_count": 23,
   "id": "7a9703d5-8eb0-4814-a9d0-d632316de143",
   "metadata": {},
   "outputs": [
    {
     "name": "stdout",
     "output_type": "stream",
     "text": [
      "Connection to SQL Server was successful.\n"
     ]
    }
   ],
   "source": [
    "try:\n",
    "    conn = pyodbc.connect(\n",
    "        f'DRIVER={{ODBC Driver 17 for SQL Server}};'\n",
    "        f'SERVER={server};'\n",
    "        f'DATABASE={database};'\n",
    "        f'UID={username};'\n",
    "        f'PWD={password}'\n",
    "    )\n",
    "    print(\"Connection to SQL Server was successful.\")\n",
    "except Exception as e:\n",
    "    print(f\"Failed to connect to SQL Server: {e}\")\n",
    "    raise"
   ]
  },
  {
   "cell_type": "code",
   "execution_count": 24,
   "id": "044217bd-881c-4bf5-9296-b0c0bd8b3d5e",
   "metadata": {},
   "outputs": [],
   "source": [
    "import csv"
   ]
  },
  {
   "cell_type": "code",
   "execution_count": 25,
   "id": "a3813393-5099-48a2-86d8-6f67c6cce034",
   "metadata": {},
   "outputs": [
    {
     "name": "stdout",
     "output_type": "stream",
     "text": [
      "Connection to SQL Server was successful.\n",
      "Results have been written to query_results.csv\n",
      "Connection closed.\n"
     ]
    }
   ],
   "source": [
    "try:\n",
    "    conn = pyodbc.connect(\n",
    "        f'DRIVER={{ODBC Driver 17 for SQL Server}};'\n",
    "        f'SERVER={server};'\n",
    "        f'DATABASE={database};'\n",
    "        f'UID={username};'\n",
    "        f'PWD={password}'\n",
    "    )\n",
    "    print(\"Connection to SQL Server was successful.\")\n",
    "except Exception as e:\n",
    "    print(f\"Failed to connect to SQL Server: {e}\")\n",
    "    raise\n",
    "\n",
    "# Read and execute the SQL query\n",
    "try:\n",
    "    with open(sql_file, 'r') as file:\n",
    "        query = file.read()\n",
    "\n",
    "    cursor = conn.cursor()\n",
    "    cursor.execute(query)\n",
    "\n",
    "    # Fetch results\n",
    "    columns = [column[0] for column in cursor.description]  # Get column names\n",
    "    rows = cursor.fetchall()\n",
    "\n",
    "    # Write results to a CSV file\n",
    "    with open(output_csv, mode='w', newline='', encoding='utf-8') as csv_file:\n",
    "        writer = csv.writer(csv_file)\n",
    "        writer.writerow(columns)  # Write column headers\n",
    "        writer.writerows(rows)  # Write data rows\n",
    "\n",
    "    print(f\"Results have been written to {output_csv}\")\n",
    "except Exception as e:\n",
    "    print(f\"Error executing query: {e}\")\n",
    "finally:\n",
    "    # Clean up and close the connection\n",
    "    conn.close()\n",
    "    print(\"Connection closed.\")"
   ]
  },
  {
   "cell_type": "code",
   "execution_count": 32,
   "id": "46244a68-c29f-4878-9df8-707e3ecee947",
   "metadata": {},
   "outputs": [
    {
     "name": "stdout",
     "output_type": "stream",
     "text": [
      "Connection to SQL Server was successful.\n",
      "Results have been written to query_results.csv\n",
      "Connection closed.\n"
     ]
    }
   ],
   "source": [
    "try:\n",
    "    conn = pyodbc.connect(\n",
    "        f'DRIVER={{ODBC Driver 17 for SQL Server}};'\n",
    "        f'SERVER={server};'\n",
    "        f'DATABASE={database};'\n",
    "        f'UID={username};'\n",
    "        f'PWD={password}'\n",
    "    )\n",
    "    print(\"Connection to SQL Server was successful.\")\n",
    "except Exception as e:\n",
    "    print(f\"Failed to connect to SQL Server: {e}\")\n",
    "    raise\n",
    "\n",
    "# Read and execute the SQL query\n",
    "try:\n",
    "    with open(sql_file, 'r') as file:\n",
    "        query = file.read()\n",
    "\n",
    "    cursor = conn.cursor()\n",
    "    cursor.execute(query)\n",
    "\n",
    "    # Fetch results\n",
    "    columns = [column[0] for column in cursor.description]  # Get column names\n",
    "    rows = cursor.fetchall()\n",
    "\n",
    "    # Write results to a CSV file\n",
    "    with open(output_csv, mode='w', newline='', encoding='utf-8') as csv_file:\n",
    "        writer = csv.writer(csv_file)\n",
    "        writer.writerow(columns)  # Write column headers\n",
    "        writer.writerows(rows)  # Write data rows\n",
    "\n",
    "    print(f\"Results have been written to {output_csv}\")\n",
    "except Exception as e:\n",
    "    print(f\"Error executing query: {e}\")\n",
    "finally:\n",
    "    # Clean up and close the connection\n",
    "    conn.close()\n",
    "    print(\"Connection closed.\")"
   ]
  },
  {
   "cell_type": "code",
   "execution_count": null,
   "id": "6107b88b-4a5c-41e3-9b82-443232286fdd",
   "metadata": {},
   "outputs": [],
   "source": []
  }
 ],
 "metadata": {
  "kernelspec": {
   "display_name": "Python 3 (ipykernel)",
   "language": "python",
   "name": "python3"
  },
  "language_info": {
   "codemirror_mode": {
    "name": "ipython",
    "version": 3
   },
   "file_extension": ".py",
   "mimetype": "text/x-python",
   "name": "python",
   "nbconvert_exporter": "python",
   "pygments_lexer": "ipython3",
   "version": "3.12.7"
  }
 },
 "nbformat": 4,
 "nbformat_minor": 5
}
