{
 "cells": [
  {
   "cell_type": "code",
   "execution_count": 1,
   "id": "e13fe18d-e91b-4cb1-ab13-cc2c67cf34de",
   "metadata": {},
   "outputs": [
    {
     "name": "stdout",
     "output_type": "stream",
     "text": [
      "Data exported to usgs_utah_sites.csv\n"
     ]
    }
   ],
   "source": [
    "import requests\n",
    "import pandas as pd\n",
    "\n",
    "def get_usgs_sites(state_code='UT'):\n",
    "    \"\"\"\n",
    "    Fetches USGS gage stations and reservoir levels in a given state.\n",
    "    :param state_code: The US state abbreviation (default: 'UT' for Utah)\n",
    "    :return: A list of site names and site numbers\n",
    "    \"\"\"\n",
    "    url = \"https://waterservices.usgs.gov/nwis/dv/\"\n",
    "    params = {\n",
    "        'format': 'json',\n",
    "        'stateCd': state_code,\n",
    "        'siteStatus': 'all',\n",
    "    }\n",
    "    \n",
    "    response = requests.get(url, params=params)\n",
    "    response.raise_for_status()\n",
    "    \n",
    "    data = response.json()\n",
    "    sites = []\n",
    "    \n",
    "    for site in data.get('value', {}).get('timeSeries', []):\n",
    "        site_info = site.get('sourceInfo', {})\n",
    "        site_name = site_info.get('siteName', 'Unknown')\n",
    "        site_code = site_info.get('siteCode', [{}])[0].get('value', 'Unknown')\n",
    "        sites.append((site_code, site_name))\n",
    "    \n",
    "    return sites\n",
    "\n",
    "# Fetch USGS gage stations and reservoir levels in Utah\n",
    "usgs_sites = get_usgs_sites()\n",
    "\n",
    "# Convert to DataFrame and export to CSV\n",
    "df = pd.DataFrame(usgs_sites, columns=['Site Code', 'Site Name'])\n",
    "df.to_csv('usgs_utah_sites.csv', index=False)\n",
    "\n",
    "print(\"Data exported to usgs_utah_sites.csv\")"
   ]
  },
  {
   "cell_type": "code",
   "execution_count": 1,
   "id": "44069a24-36fd-4e84-b28c-631cce192ae0",
   "metadata": {},
   "outputs": [
    {
     "name": "stdout",
     "output_type": "stream",
     "text": [
      "Data exported to usgs_utah_sites.csv\n"
     ]
    }
   ],
   "source": [
    "import requests\n",
    "import pandas as pd\n",
    "\n",
    "def get_usgs_sites(state_code='UT'):\n",
    "    \"\"\"\n",
    "    Fetches USGS gage stations and reservoir levels in a given state.\n",
    "    :param state_code: The US state abbreviation (default: 'UT' for Utah)\n",
    "    :return: A list of site names and site numbers\n",
    "    \"\"\"\n",
    "    url = \"https://waterservices.usgs.gov/nwis/dv/\"\n",
    "    params = {\n",
    "        'format': 'json',\n",
    "        'stateCd': state_code,\n",
    "        'siteStatus': 'all',\n",
    "    }\n",
    "    \n",
    "    response = requests.get(url, params=params)\n",
    "    response.raise_for_status()\n",
    "    \n",
    "    data = response.json()\n",
    "    sites = []\n",
    "    \n",
    "    for site in data.get('value', {}).get('timeSeries', []):\n",
    "        site_info = site.get('sourceInfo', {})\n",
    "        site_name = site_info.get('siteName', 'Unknown')\n",
    "        site_code = site_info.get('siteCode', [{}])[0].get('value', 'Unknown')\n",
    "        sites.append((site_code, site_name))\n",
    "    \n",
    "    return sites\n",
    "\n",
    "# Fetch USGS gage stations and reservoir levels in Utah\n",
    "usgs_sites = get_usgs_sites()\n",
    "\n",
    "# Convert to DataFrame and export to CSV\n",
    "df = pd.DataFrame(usgs_sites, columns=['Site Code', 'Site Name'])\n",
    "df.to_csv('usgs_utah_sites.csv', index=False)\n",
    "\n",
    "print(\"Data exported to usgs_utah_sites.csv\")"
   ]
  },
  {
   "cell_type": "code",
   "execution_count": null,
   "id": "42ebc329-b39c-4fd9-87c7-be45364fd340",
   "metadata": {},
   "outputs": [],
   "source": []
  }
 ],
 "metadata": {
  "kernelspec": {
   "display_name": "Python 3 (ipykernel)",
   "language": "python",
   "name": "python3"
  },
  "language_info": {
   "codemirror_mode": {
    "name": "ipython",
    "version": 3
   },
   "file_extension": ".py",
   "mimetype": "text/x-python",
   "name": "python",
   "nbconvert_exporter": "python",
   "pygments_lexer": "ipython3",
   "version": "3.12.7"
  }
 },
 "nbformat": 4,
 "nbformat_minor": 5
}
