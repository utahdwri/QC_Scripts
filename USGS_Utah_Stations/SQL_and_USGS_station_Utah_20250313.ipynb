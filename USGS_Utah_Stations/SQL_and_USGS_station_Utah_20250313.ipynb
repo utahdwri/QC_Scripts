{
 "cells": [
  {
   "cell_type": "code",
   "execution_count": 3,
   "id": "d57e19bf-f97e-4578-8a4b-cd4adc57b7f5",
   "metadata": {},
   "outputs": [
    {
     "name": "stdout",
     "output_type": "stream",
     "text": [
      "Data has been exported to 'Utah USGS DVRT stations.csv'.\n"
     ]
    },
    {
     "name": "stderr",
     "output_type": "stream",
     "text": [
      "C:\\Users\\pbenko\\AppData\\Local\\Temp\\1\\ipykernel_15976\\1592115562.py:70: UserWarning: pandas only supports SQLAlchemy connectable (engine/connection) or database string URI or sqlite3 DBAPI2 connection. Other DBAPI2 objects are not tested. Please consider using SQLAlchemy.\n",
      "  df = pd.read_sql_query(query, conn)\n"
     ]
    }
   ],
   "source": [
    "import pyodbc\n",
    "import pandas as pd\n",
    "\n",
    "# Database connection parameters\n",
    "server = 'wrt-sql-prod'\n",
    "database = 'dvrtDB'\n",
    "username = 'wrtsqlq'\n",
    "password = 'guest'\n",
    "\n",
    "# Establish connection and fetch data\n",
    "with pyodbc.connect(\n",
    "    f\"DRIVER={{ODBC Driver 17 for SQL Server}};\"\n",
    "    f\"SERVER={server};\"\n",
    "    f\"DATABASE={database};\"\n",
    "    f\"UID={username};\"\n",
    "    f\"PWD={password}\"\n",
    ") as conn:\n",
    "    query = \"\"\"\n",
    "    SELECT  \n",
    "        [COLLECTION_SYSTEM],\n",
    "        [collection_sys_description],\n",
    "        [STATION_MASTER].[STATION_ID] AS MasterStationID,\n",
    "        [STATION_MASTER].[STATION_NAME] AS MasterStationName,\n",
    "        [COLLECTION_STATIONS].[STATION_NAME] AS CollectionStationName,\n",
    "        [RETRIES],\n",
    "        [SEQ_NO],\n",
    "        [COMMENTS],\n",
    "        LAT,\n",
    "        LON,\n",
    "        [STATION_TYPE],\n",
    "        [COMMON_DESC],\n",
    "        [DIVERTING_WORKS],\n",
    "        [MEASURING_DEVICE],\n",
    "        [RECORD_RATING],\n",
    "        [SYSTEM_NAME],\n",
    "        [UNITS_ID],\n",
    "        [OWNER_NAME],\n",
    "        [CAPTURE_SEQ_NO],\n",
    "        [ANALOG_CHANNEL],\n",
    "        [LOW_FLOW],\n",
    "        [HIGH_FLOW],\n",
    "        [DEVICE_TYPE],\n",
    "        [OWNER_PHONE],\n",
    "        [REALTIME_INCLUDE],\n",
    "        [CORRECTED_DATA],\n",
    "        [STATUS],\n",
    "        [SYSTEM_GROUP],\n",
    "        [SYSTEM_SUBGROUP],\n",
    "        [ADDRESS_ID],\n",
    "        [DataEntryMethod],\n",
    "        [DataLogger],\n",
    "        [DatasetType],\n",
    "        [SeriesVerifiedBy],\n",
    "        [SeriesVerifiedDate],\n",
    "        [SiteState],\n",
    "        [SiteType],\n",
    "        [SiteVerifiedBy],\n",
    "        [SiteVerifiedDate],\n",
    "        [Telemetry]\n",
    "    FROM [dvrtDB].[dbo].[COLLECTION_STATIONS]\n",
    "    LEFT JOIN [dvrtDB].[dbo].[COLLECTION_SYSTEMS] \n",
    "        ON [COLLECTION_SYSTEMS].[collection_sys_id] = [COLLECTION_STATIONS].[collection_sys_id]\n",
    "    LEFT JOIN [dvrtDB].[dbo].[STATION_MASTER] \n",
    "        ON [STATION_MASTER].[CAPTURE_SEQ_NO] = [COLLECTION_STATIONS].[SEQ_NO]\n",
    "    WHERE [COLLECTION_SYSTEMS].[collection_sys_description] = 'USGS Gage'\n",
    "    ORDER BY [COLLECTION_SYSTEM] ASC\n",
    "    \"\"\"\n",
    "    \n",
    "    # Execute query and load data into DataFrame\n",
    "    df = pd.read_sql_query(query, conn)\n",
    "\n",
    "# Output the data to a CSV file\n",
    "df.to_csv('Utah USGS DVRT stations.csv', index=False)\n",
    "print(\"Data has been exported to 'Utah USGS DVRT stations.csv'.\")"
   ]
  },
  {
   "cell_type": "code",
   "execution_count": null,
   "id": "a1e5f19d-aecb-4808-92cc-28a33b458a4e",
   "metadata": {},
   "outputs": [],
   "source": []
  }
 ],
 "metadata": {
  "kernelspec": {
   "display_name": "Python 3 (ipykernel)",
   "language": "python",
   "name": "python3"
  },
  "language_info": {
   "codemirror_mode": {
    "name": "ipython",
    "version": 3
   },
   "file_extension": ".py",
   "mimetype": "text/x-python",
   "name": "python",
   "nbconvert_exporter": "python",
   "pygments_lexer": "ipython3",
   "version": "3.12.7"
  }
 },
 "nbformat": 4,
 "nbformat_minor": 5
}
