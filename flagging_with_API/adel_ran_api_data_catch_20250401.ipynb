{
 "cells": [
  {
   "cell_type": "code",
   "execution_count": 2,
   "id": "cfba0fe9-3765-4bac-8706-4f017b1c75e4",
   "metadata": {},
   "outputs": [
    {
     "name": "stdout",
     "output_type": "stream",
     "text": [
      "https://www.waterrights.utah.gov/dvrtdb/daily-chart.asp?station_id=10987&end_date=2025-04-01&f=json\n",
      "Data successfully saved to water_data_10987_2025-04-01.csv\n"
     ]
    }
   ],
   "source": [
    "import requests\n",
    "import pandas as pd\n",
    "from datetime import datetime\n",
    "\n",
    "# Define parameters\n",
    "DivrtID = \"10987\"\n",
    "end_date = datetime.today().strftime(\"%Y-%m-%d\")  # Get today's date in YYYY-MM-DD format\n",
    "\n",
    "# Construct API URL\n",
    "api_url = f\"https://www.waterrights.utah.gov/dvrtdb/daily-chart.asp?station_id={DivrtID}&end_date={end_date}&f=json\"\n",
    "\n",
    "print(api_url)\n",
    "\n",
    "# Fetch data from the API\n",
    "response = requests.get(api_url)\n",
    "\n",
    "# Check if request was successful\n",
    "if response.status_code == 200:\n",
    "    data = response.json()\n",
    "    \n",
    "    # Extract metadata fields\n",
    "    metadata_fields = [\"station_id\", \"system_name\", \"station_name\", \"units\"]\n",
    "    metadata = {field: data.get(field, \"N/A\") for field in metadata_fields}  # Default to \"N/A\" if missing\n",
    "    \n",
    "    # Extract time series data\n",
    "    if \"data\" in data:\n",
    "        df = pd.DataFrame(data[\"data\"], columns=[\"date\", \"value\"])\n",
    "        df.rename(columns={\"date\": \"Date\", \"value\": \"Value\"}, inplace=True)  # Ensure correct column names\n",
    "\n",
    "        # Add metadata as new columns\n",
    "        for key, value in metadata.items():\n",
    "            df[key] = value\n",
    "        \n",
    "        # Reorder columns to: station_id, station_name, system_name, units, Date, Value\n",
    "        column_order = [\"station_id\", \"station_name\", \"system_name\", \"units\", \"Date\", \"Value\"]\n",
    "        df = df[column_order]\n",
    "\n",
    "        # Define CSV filename with station_id and date\n",
    "        csv_filename = f\"water_data_{DivrtID}_{end_date}.csv\"\n",
    "\n",
    "        # Save DataFrame to CSV\n",
    "        df.to_csv(csv_filename, index=False)\n",
    "\n",
    "        print(f\"Data successfully saved to {csv_filename}\")\n",
    "    else:\n",
    "        print(\"Error: 'data' key not found in API response.\")\n",
    "else:\n",
    "    print(f\"Error fetching data: {response.status_code}\")\n",
    "\n"
   ]
  },
  {
   "cell_type": "code",
   "execution_count": null,
   "id": "8c4b3b2a-0b58-4c11-90bf-234a4caa9d4a",
   "metadata": {},
   "outputs": [],
   "source": []
  }
 ],
 "metadata": {
  "kernelspec": {
   "display_name": "Python 3 (ipykernel)",
   "language": "python",
   "name": "python3"
  },
  "language_info": {
   "codemirror_mode": {
    "name": "ipython",
    "version": 3
   },
   "file_extension": ".py",
   "mimetype": "text/x-python",
   "name": "python",
   "nbconvert_exporter": "python",
   "pygments_lexer": "ipython3",
   "version": "3.12.7"
  }
 },
 "nbformat": 4,
 "nbformat_minor": 5
}
