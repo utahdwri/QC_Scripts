{
 "cells": [
  {
   "cell_type": "code",
   "execution_count": null,
   "id": "62da0889-09c4-4620-8d3c-f264cc8fe48c",
   "metadata": {},
   "outputs": [],
   "source": [
    "import requests\n",
    "import re\n",
    "import pandas as pd\n",
    "import numpy as np\n",
    "import plotly.graph_objects as go\n",
    "from io import StringIO\n",
    "from datetime import date\n",
    "from sklearn.ensemble import IsolationForest\n",
    "\n",
    "# Define the customer key and sensor IDs\n",
    "customer_key = \"your_customer_key\"  # Replace with your actual customer key\n",
    "sensor_ids = \"1,2,3\"  # Replace with your actual sensor IDs\n",
    "\n",
    "# Get the current year\n",
    "today = date.today()\n",
    "current_year = int(today.strftime(\"%Y\"))\n",
    "start_year = 2000\n",
    "end_year = 2025\n",
    "\n",
    "df_all_years = pd.DataFrame()\n",
    "\n",
    "for year in range(start_year, current_year + 1):\n",
    "    try:\n",
    "        # Construct the URL with the customer key and sensor IDs\n",
    "        URL = f\"http://api.exactraq.net/v1/customers/{customer_key}/sensor_values.format?sensor_ids={sensor_ids}\"\n",
    "\n",
    "        # Send the GET request to the API\n",
    "        rr = requests.get(URL)\n",
    "        rr.raise_for_status()  # Check for HTTP errors\n",
    "\n",
    "        # Assuming the response contains CSV data\n",
    "        df = pd.read_csv(StringIO(rr.text))\n",
    "\n",
    "        if df.empty:\n",
    "            continue\n",
    "\n",
    "        # Assuming the data has columns such as 'year', 'month', 'day', 'DISCHARGE'\n",
    "        df[\"DATE\"] = pd.to_datetime(df[['year', 'month', 'day']])\n",
    "        df.drop(columns=[\"year\", \"month\", \"day\"], inplace=True)\n",
    "        df_all_years = pd.concat([df_all_years, df], ignore_index=True)\n",
    "\n",
    "    except Exception as e:\n",
    "        print(f\"Error processing year {year}: {e}\")\n",
    "\n",
    "# Ensure we have data\n",
    "if df_all_years.empty:\n",
    "    print(\"No data collected. Exiting.\")\n",
    "    exit()"
   ]
  }
 ],
 "metadata": {
  "kernelspec": {
   "display_name": "Python 3 (ipykernel)",
   "language": "python",
   "name": "python3"
  },
  "language_info": {
   "codemirror_mode": {
    "name": "ipython",
    "version": 3
   },
   "file_extension": ".py",
   "mimetype": "text/x-python",
   "name": "python",
   "nbconvert_exporter": "python",
   "pygments_lexer": "ipython3",
   "version": "3.12.7"
  }
 },
 "nbformat": 4,
 "nbformat_minor": 5
}
