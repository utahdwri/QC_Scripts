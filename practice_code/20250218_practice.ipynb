{
 "cells": [
  {
   "cell_type": "code",
   "execution_count": 1,
   "id": "c1166897-d5c8-4922-8210-5c65b352c51b",
   "metadata": {},
   "outputs": [],
   "source": [
    "x = int(98.6)"
   ]
  },
  {
   "cell_type": "code",
   "execution_count": 2,
   "id": "16f1db1b-e223-4997-b61e-2d607da06fc8",
   "metadata": {},
   "outputs": [],
   "source": [
    "x = int(98.6)"
   ]
  },
  {
   "cell_type": "code",
   "execution_count": 3,
   "id": "f5a24047-c048-496a-9fbc-dd3d79f9f75e",
   "metadata": {},
   "outputs": [
    {
     "data": {
      "text/plain": [
       "98"
      ]
     },
     "execution_count": 3,
     "metadata": {},
     "output_type": "execute_result"
    }
   ],
   "source": [
    "x\n"
   ]
  },
  {
   "cell_type": "code",
   "execution_count": 4,
   "id": "bc7222b1-30c4-4138-8b43-9a397b62e582",
   "metadata": {},
   "outputs": [],
   "source": [
    "x = 1 + 2 * 3 - 8 / 4"
   ]
  },
  {
   "cell_type": "code",
   "execution_count": 5,
   "id": "43d07487-fcac-4e37-ad17-faf47ddb1c12",
   "metadata": {},
   "outputs": [
    {
     "data": {
      "text/plain": [
       "5.0"
      ]
     },
     "execution_count": 5,
     "metadata": {},
     "output_type": "execute_result"
    }
   ],
   "source": [
    "x"
   ]
  },
  {
   "cell_type": "code",
   "execution_count": null,
   "id": "7f51891f-f130-4def-bf61-44dff6e8b68b",
   "metadata": {},
   "outputs": [],
   "source": [
    "input()\n"
   ]
  },
  {
   "cell_type": "code",
   "execution_count": 2,
   "id": "7b7f02c6-3a10-4d44-9e3a-3083a3ad8707",
   "metadata": {},
   "outputs": [
    {
     "name": "stdin",
     "output_type": "stream",
     "text": [
      "Enter Hours: 35\n"
     ]
    },
    {
     "name": "stdout",
     "output_type": "stream",
     "text": [
      "Pay: 96.25\n"
     ]
    }
   ],
   "source": [
    "hrs = input(\"Enter Hours:\")\n",
    "rate = float(hrs)\n",
    "pay_rate = rate*2.75\n",
    "print(\"Pay:\",pay_rate)"
   ]
  },
  {
   "cell_type": "code",
   "execution_count": 3,
   "id": "da1bc399-82ef-413b-a908-e4c1f0312acb",
   "metadata": {},
   "outputs": [
    {
     "name": "stdout",
     "output_type": "stream",
     "text": [
      "437.5\n"
     ]
    }
   ],
   "source": [
    "hours = 35.0\n",
    "rate = 12.50\n",
    "pay = hours * rate\n",
    "print(pay)"
   ]
  },
  {
   "cell_type": "code",
   "execution_count": 4,
   "id": "619142a3-07b4-4314-8968-4fcec33315b9",
   "metadata": {},
   "outputs": [
    {
     "ename": "IndentationError",
     "evalue": "expected an indented block after 'if' statement on line 2 (2123831654.py, line 3)",
     "output_type": "error",
     "traceback": [
      "\u001b[1;36m  Cell \u001b[1;32mIn[4], line 3\u001b[1;36m\u001b[0m\n\u001b[1;33m    PRINT ('SMALL')\u001b[0m\n\u001b[1;37m    ^\u001b[0m\n\u001b[1;31mIndentationError\u001b[0m\u001b[1;31m:\u001b[0m expected an indented block after 'if' statement on line 2\n"
     ]
    }
   ],
   "source": [
    "x = 20\n",
    "if x<2:\n",
    "PRINT ('SMALL')"
   ]
  },
  {
   "cell_type": "code",
   "execution_count": 1,
   "id": "10e9a38f-8271-49b1-82ef-60a79a819e61",
   "metadata": {},
   "outputs": [
    {
     "name": "stdout",
     "output_type": "stream",
     "text": [
      "Small\n",
      "All done\n"
     ]
    }
   ],
   "source": [
    "x = 0\n",
    "if x < 2 :\n",
    "    print('Small')\n",
    "elif x < 10 :\n",
    "    print('Medium')\n",
    "else :\n",
    "    print('LARGE')\n",
    "print('All done')"
   ]
  },
  {
   "cell_type": "code",
   "execution_count": 2,
   "id": "10dc14eb-359a-4a1d-9e10-055e5a79ab63",
   "metadata": {},
   "outputs": [],
   "source": [
    "if x == 6 :\n",
    "    print('Is 6')\n",
    "    print('Is Still 6')\n",
    "    print('Third 6')"
   ]
  },
  {
   "cell_type": "code",
   "execution_count": 5,
   "id": "96ee2243-2acc-4d6d-8f8c-c82e5d37e690",
   "metadata": {},
   "outputs": [],
   "source": [
    "x = 4\n",
    "if  x == 5 :\n",
    "    print('Is 5')\n",
    "    print('Is Still 5')\n",
    "    print('Third 5')"
   ]
  },
  {
   "cell_type": "code",
   "execution_count": 10,
   "id": "5afa3508-5e57-4c4d-86de-635ccc3c5e10",
   "metadata": {},
   "outputs": [
    {
     "name": "stdout",
     "output_type": "stream",
     "text": [
      "Two or more\n"
     ]
    }
   ],
   "source": [
    "x= 4\n",
    "if x < 2 :\n",
    "    print('Below 2')\n",
    "elif x >= 2 :\n",
    "     print('Two or more')\n",
    "else :\n",
    "    print('Something else')"
   ]
  },
  {
   "cell_type": "code",
   "execution_count": 11,
   "id": "89abcf1c-7059-4b68-b1d0-bf11afd8cfb1",
   "metadata": {},
   "outputs": [
    {
     "ename": "SyntaxError",
     "evalue": "invalid syntax (1944347739.py, line 1)",
     "output_type": "error",
     "traceback": [
      "\u001b[1;36m  Cell \u001b[1;32mIn[11], line 1\u001b[1;36m\u001b[0m\n\u001b[1;33m    (1)   astr = 'Hello Bob'\u001b[0m\n\u001b[1;37m          ^\u001b[0m\n\u001b[1;31mSyntaxError\u001b[0m\u001b[1;31m:\u001b[0m invalid syntax\n"
     ]
    }
   ],
   "source": [
    "(1)   astr = 'Hello Bob'\n",
    "(2)   istr = int(astr)\n",
    "(3)   print('First', istr)\n",
    "(4)   astr = '123'\n",
    "(5)   istr = int(astr)\n",
    "(6)   print('Second', istr)"
   ]
  },
  {
   "cell_type": "code",
   "execution_count": 12,
   "id": "32919710-45cc-4289-bfef-c3c8db273a7b",
   "metadata": {},
   "outputs": [],
   "source": [
    "astr = 'Hello Bob'\n",
    "istr = 0\n",
    "try:\n",
    "    istr = int(astr)\n",
    "except:\n",
    "    istr = -1\n"
   ]
  },
  {
   "cell_type": "code",
   "execution_count": null,
   "id": "fead3eb1-c82d-4cbb-b9b2-4c792d711ec9",
   "metadata": {},
   "outputs": [],
   "source": [
    "astr = 'Hello Bob'\n",
    "istr = 0\n",
    "try:\n",
    "    istr = int(astr)\n",
    "except:\n",
    "    istr = -1"
   ]
  },
  {
   "cell_type": "code",
   "execution_count": 13,
   "id": "3efbb214-c2cc-495b-93d8-f0d8f70719e8",
   "metadata": {},
   "outputs": [
    {
     "name": "stdin",
     "output_type": "stream",
     "text": [
      "Enter Hours: 40\n",
      "Enter Rate: 10.50\n"
     ]
    },
    {
     "name": "stdout",
     "output_type": "stream",
     "text": [
      "630.0\n"
     ]
    }
   ],
   "source": [
    "hrs = input(\"Enter Hours:\")\n",
    "rate = input (\"Enter Rate:\")\n",
    "p_rate = float(hrs)*float(rate)\n",
    "if p_rate < 40:\n",
    "    print(\"Pay:\",p_rate)\n",
    "if p_rate > 40:\n",
    "    overtime = float(p_rate)*1.5\n",
    "    print(overtime)"
   ]
  },
  {
   "cell_type": "code",
   "execution_count": null,
   "id": "ab8686e2-411e-46ab-8eb9-0107ae92c807",
   "metadata": {},
   "outputs": [],
   "source": [
    "hrs = input(\"Enter Hours:\")\n",
    "rate = input (\"Enter Rate:\")\n",
    "p_rate = float(hrs)*float(rate)\n",
    "if p_rate < 40:\n",
    "    \n",
    "    print(\"Pay:\",p_rate)"
   ]
  },
  {
   "cell_type": "code",
   "execution_count": 1,
   "id": "c14ff4ee-41eb-48b2-952f-d10e23a80838",
   "metadata": {},
   "outputs": [
    {
     "name": "stdin",
     "output_type": "stream",
     "text": [
      "Enter Hours: 45\n",
      "Enter Rate: 10.50\n"
     ]
    },
    {
     "name": "stdout",
     "output_type": "stream",
     "text": [
      "498.75\n"
     ]
    }
   ],
   "source": [
    "hrs = input(\"Enter Hours:\")\n",
    "rate = input (\"Enter Rate:\")\n",
    "p_rate = float(hrs)\n",
    "overtime = float(rate)\n",
    "\n",
    "#Print (p_rate, overtime)\n",
    "\n",
    "if p_rate > 40:\n",
    "    \n",
    "    reg = overtime * p_rate\n",
    "    otp = (p_rate - 40.0) * (overtime * 0.5)\n",
    "\n",
    "    xp = reg + otp\n",
    "    \n",
    "else:\n",
    "    xp = p_rate * overtime\n",
    "    \n",
    "print(xp)"
   ]
  },
  {
   "cell_type": "code",
   "execution_count": 2,
   "id": "121350de-42a2-4419-8dea-48bb9cdc9654",
   "metadata": {},
   "outputs": [
    {
     "name": "stdin",
     "output_type": "stream",
     "text": [
      "Enter a score between 0.0 and 1.0:  0.3\n"
     ]
    },
    {
     "name": "stdout",
     "output_type": "stream",
     "text": [
      "Grade: F\n"
     ]
    }
   ],
   "source": [
    "def get_grade(score):\n",
    "    if score < 0.0 or score > 1.0:\n",
    "        print(\"Error: Score out of range. Please enter a value between 0.0 and 1.0.\")\n",
    "        return\n",
    "    \n",
    "    if score >= 0.9:\n",
    "        grade = \"A\"\n",
    "    elif score >= 0.8:\n",
    "        grade = \"B\"\n",
    "    elif score >= 0.7:\n",
    "        grade = \"C\"\n",
    "    elif score >= 0.6:\n",
    "        grade = \"D\"\n",
    "    else:\n",
    "        grade = \"F\"\n",
    "    \n",
    "    print(f\"Grade: {grade}\")\n",
    "\n",
    "try:\n",
    "    score = float(input(\"Enter a score between 0.0 and 1.0: \"))\n",
    "    get_grade(score)\n",
    "except ValueError:\n",
    "    print(\"Error: Invalid input. Please enter a numeric value.\")\n",
    "    "
   ]
  },
  {
   "cell_type": "code",
   "execution_count": 3,
   "id": "9ab3d3f0-23d8-47c1-82ae-6fa44bebb7d1",
   "metadata": {},
   "outputs": [
    {
     "ename": "IndentationError",
     "evalue": "unexpected indent (2650336966.py, line 2)",
     "output_type": "error",
     "traceback": [
      "\u001b[1;36m  Cell \u001b[1;32mIn[3], line 2\u001b[1;36m\u001b[0m\n\u001b[1;33m    if score < 0.0 or score > 1.0:\u001b[0m\n\u001b[1;37m    ^\u001b[0m\n\u001b[1;31mIndentationError\u001b[0m\u001b[1;31m:\u001b[0m unexpected indent\n"
     ]
    }
   ],
   "source": [
    "score = input(\"Enter Score: \")\n",
    "    if score < 0.0 or score > 1.0:\n",
    "        print(\"Error: Score out of range. Please enter a value between 0.0 and 1.0.\")\n",
    "        return\n",
    "    \n",
    "    if score >= 0.9:\n",
    "        grade = \"A\"\n",
    "    elif score >= 0.8:\n",
    "        grade = \"B\"\n",
    "    elif score >= 0.7:\n",
    "        grade = \"C\"\n",
    "    elif score >= 0.6:\n",
    "        grade = \"D\"\n",
    "    else:\n",
    "        grade = \"F\"\n",
    "    \n",
    "    print(f\"Grade: {grade}\")"
   ]
  },
  {
   "cell_type": "code",
   "execution_count": 4,
   "id": "4ad38eca-783f-4a0e-98ad-c651c624de34",
   "metadata": {},
   "outputs": [
    {
     "name": "stdin",
     "output_type": "stream",
     "text": [
      "Enter Score:  0.67\n"
     ]
    },
    {
     "name": "stdout",
     "output_type": "stream",
     "text": [
      "Grade: D\n"
     ]
    }
   ],
   "source": [
    "score = input(\"Enter Score: \")\n",
    "\n",
    "try:\n",
    "    score = float(score)  # Convert input to float\n",
    "    if score < 0.0 or score > 1.0:\n",
    "        print(\"Error: Score out of range. Please enter a value between 0.0 and 1.0.\")\n",
    "    else:\n",
    "        if score >= 0.9:\n",
    "            grade = \"A\"\n",
    "        elif score >= 0.8:\n",
    "            grade = \"B\"\n",
    "        elif score >= 0.7:\n",
    "            grade = \"C\"\n",
    "        elif score >= 0.6:\n",
    "            grade = \"D\"\n",
    "        else:\n",
    "            grade = \"F\"\n",
    "        \n",
    "        print(f\"Grade: {grade}\")\n",
    "\n",
    "except ValueError:\n",
    "    print(\"Error: Invalid input. Please enter a numeric value between 0.0 and 1.0.\")\n",
    "    "
   ]
  },
  {
   "cell_type": "code",
   "execution_count": 5,
   "id": "95b053f7-5a00-40ef-87b3-04531556e2cf",
   "metadata": {},
   "outputs": [
    {
     "name": "stdout",
     "output_type": "stream",
     "text": [
      "There\n"
     ]
    }
   ],
   "source": [
    "def thing():\n",
    "    print('Hello')\n",
    "\n",
    "print('There')\n"
   ]
  },
  {
   "cell_type": "code",
   "execution_count": 6,
   "id": "35874f6e-8473-4620-b97e-fd1692904bc9",
   "metadata": {},
   "outputs": [],
   "source": [
    "x = 'banana'\n",
    "y = max(x)\n",
    "z = y * 2\n"
   ]
  },
  {
   "cell_type": "code",
   "execution_count": 7,
   "id": "89cbe45d-7496-4007-819e-9e50c542e4c1",
   "metadata": {},
   "outputs": [
    {
     "name": "stdout",
     "output_type": "stream",
     "text": [
      "10\n",
      "20\n"
     ]
    }
   ],
   "source": [
    "def func(x) :\n",
    "    print(x)\n",
    "\n",
    "func(10)\n",
    "func(20)"
   ]
  },
  {
   "cell_type": "code",
   "execution_count": 8,
   "id": "f3bf362a-ad95-443d-a007-36a5a20127b4",
   "metadata": {},
   "outputs": [
    {
     "name": "stdout",
     "output_type": "stream",
     "text": [
      "Hello\n"
     ]
    }
   ],
   "source": [
    "def stuff():\n",
    "    print('Hello')\n",
    "    return\n",
    "    print('World')\n",
    "\n",
    "stuff()\n"
   ]
  },
  {
   "cell_type": "code",
   "execution_count": 9,
   "id": "ef6c43d0-ed53-42d1-b7c5-6550fc32d01e",
   "metadata": {},
   "outputs": [
    {
     "name": "stdout",
     "output_type": "stream",
     "text": [
      "Bonjour Michael\n"
     ]
    }
   ],
   "source": [
    "def greet(lang):\n",
    "    if lang == 'es':\n",
    "        return 'Hola'\n",
    "    elif lang == 'fr':\n",
    "        return 'Bonjour'\n",
    "    else:\n",
    "        return 'Hello'\n",
    "\n",
    "print(greet('fr'),'Michael')\n"
   ]
  },
  {
   "cell_type": "code",
   "execution_count": 10,
   "id": "f1daf505-71e2-42f7-aa6d-317a29ab9f54",
   "metadata": {},
   "outputs": [
    {
     "name": "stdout",
     "output_type": "stream",
     "text": [
      "2\n"
     ]
    }
   ],
   "source": [
    "def addtwo(a, b):\n",
    "    added = a + b\n",
    "    return a\n",
    "\n",
    "x = addtwo(2, 7)\n",
    "print(x)"
   ]
  },
  {
   "cell_type": "code",
   "execution_count": 1,
   "id": "b7378c41-c1c0-4c6a-9253-0035895fdbac",
   "metadata": {},
   "outputs": [
    {
     "name": "stdout",
     "output_type": "stream",
     "text": [
      "5\n"
     ]
    }
   ],
   "source": [
    "tot = 0 \n",
    "for i in [5, 4, 3, 2, 1] :\n",
    "    tot = tot + 1\n",
    "print(tot)"
   ]
  },
  {
   "cell_type": "code",
   "execution_count": 2,
   "id": "2ccb98f7-8cc0-4f2c-a05b-0bfcdda614ea",
   "metadata": {},
   "outputs": [
    {
     "name": "stdout",
     "output_type": "stream",
     "text": [
      "Happy New Year: Joseph\n",
      "Happy New Year: Glenn\n",
      "Happy New Year: Sally\n",
      "Done!\n"
     ]
    }
   ],
   "source": [
    "friends = ['Joseph', 'Glenn', 'Sally']\n",
    "for friend in friends :\n",
    "     print('Happy New Year:',  friend)\n",
    "print('Done!')"
   ]
  },
  {
   "cell_type": "code",
   "execution_count": 3,
   "id": "f5acc7ab-7803-456a-9d21-921f763fb7c4",
   "metadata": {},
   "outputs": [
    {
     "name": "stdout",
     "output_type": "stream",
     "text": [
      "-1\n"
     ]
    }
   ],
   "source": [
    "smallest_so_far = -1\n",
    "for the_num in [9, 41, 12, 3, 74, 15] :\n",
    "   if the_num < smallest_so_far :\n",
    "      smallest_so_far = the_num\n",
    "print(smallest_so_far)"
   ]
  },
  {
   "cell_type": "code",
   "execution_count": 4,
   "id": "d090b293-a5d8-4069-bf39-44578325b6b1",
   "metadata": {},
   "outputs": [
    {
     "name": "stdout",
     "output_type": "stream",
     "text": [
      "5\n"
     ]
    }
   ],
   "source": [
    "tot = 0 \n",
    "for i in [5, 4, 3, 2, 1] :\n",
    "    tot = tot + 1\n",
    "print(tot)\n"
   ]
  },
  {
   "cell_type": "code",
   "execution_count": 5,
   "id": "cc9d3e86-14d7-4c6f-a0c3-ac150f1016cd",
   "metadata": {},
   "outputs": [
    {
     "name": "stdout",
     "output_type": "stream",
     "text": [
      "-1\n"
     ]
    }
   ],
   "source": [
    "smallest_so_far = -1\n",
    "for the_num in [9, 41, 12, 3, 74, 15] :\n",
    "   if the_num < smallest_so_far :\n",
    "      smallest_so_far = the_num\n",
    "print(smallest_so_far)\n"
   ]
  },
  {
   "cell_type": "code",
   "execution_count": 6,
   "id": "50a2b435-0fa5-47d2-b732-5df2739fd71c",
   "metadata": {},
   "outputs": [
    {
     "ename": "NameError",
     "evalue": "name 'smallest' is not defined",
     "output_type": "error",
     "traceback": [
      "\u001b[1;31m---------------------------------------------------------------------------\u001b[0m",
      "\u001b[1;31mNameError\u001b[0m                                 Traceback (most recent call last)",
      "Cell \u001b[1;32mIn[6], line 1\u001b[0m\n\u001b[1;32m----> 1\u001b[0m \u001b[38;5;28;01mif\u001b[39;00m smallest \u001b[38;5;129;01mis\u001b[39;00m \u001b[38;5;28;01mNone\u001b[39;00m :\n\u001b[0;32m      2\u001b[0m      smallest \u001b[38;5;241m=\u001b[39m value\n",
      "\u001b[1;31mNameError\u001b[0m: name 'smallest' is not defined"
     ]
    }
   ],
   "source": [
    "if smallest is None :\n",
    "     smallest = value"
   ]
  },
  {
   "cell_type": "code",
   "execution_count": 7,
   "id": "2e7c47f2-2621-4788-a227-26024655b8d7",
   "metadata": {},
   "outputs": [
    {
     "name": "stdout",
     "output_type": "stream",
     "text": [
      "Dry off!\n"
     ]
    }
   ],
   "source": [
    "n = 0\n",
    "while n > 0 :\n",
    "    print('Lather')\n",
    "    print('Rinse')\n",
    "print('Dry off!')"
   ]
  },
  {
   "cell_type": "code",
   "execution_count": null,
   "id": "ab4cc4ef-3f49-4fef-8188-db4dee37b20f",
   "metadata": {},
   "outputs": [],
   "source": []
  }
 ],
 "metadata": {
  "kernelspec": {
   "display_name": "Python 3 (ipykernel)",
   "language": "python",
   "name": "python3"
  },
  "language_info": {
   "codemirror_mode": {
    "name": "ipython",
    "version": 3
   },
   "file_extension": ".py",
   "mimetype": "text/x-python",
   "name": "python",
   "nbconvert_exporter": "python",
   "pygments_lexer": "ipython3",
   "version": "3.12.7"
  }
 },
 "nbformat": 4,
 "nbformat_minor": 5
}
