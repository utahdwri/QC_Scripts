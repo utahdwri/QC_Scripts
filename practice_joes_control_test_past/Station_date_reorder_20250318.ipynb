{
 "cells": [
  {
   "cell_type": "code",
   "execution_count": null,
   "id": "c965c542-adc0-4e42-b97d-bc9c3e86be4f",
   "metadata": {},
   "outputs": [],
   "source": [
    "import pyodbc\n",
    "import pandas as pd\n",
    "\n",
    "# Database connection parameters\n",
    "server = 'wrt-sql-prod'\n",
    "database = 'dvrtDB'\n",
    "username = 'wrtsqlq'\n",
    "password = 'guest'\n",
    "\n",
    "# Establish connection and fetch data\n",
    "with pyodbc.connect(\n",
    "    f\"DRIVER={{ODBC Driver 17 for SQL Server}};\"\n",
    "    f\"SERVER={server};\"\n",
    "    f\"DATABASE={database};\"\n",
    "    f\"UID={username};\"\n",
    "    f\"PWD={password}\"\n",
    ") as conn:\n",
    "    query = \"SELECT * FROM dbo.DAILY_RECORDS WHERE STATION_ID = 10987\"\n",
    "    df = pd.read_sql_query(query, conn)\n",
    "\n",
    "# Convert from wide to long format\n",
    "df_long = df.melt(id_vars=['STATION_ID', 'RECORD_YEAR'], \n",
    "                  var_name='Day', value_name='Discharge (CFS)')\n",
    "\n",
    "# Extract and format the 'Day' column\n",
    "df_long['Day'] = df_long['Day'].str.extract(r'(RV_\\d{4})')  # Keep the RV_XXXX format\n",
    "df_long['Day_Number'] = df_long['Day'].str[3:].astype(int)  # Extract numeric day (0101 -> 101)\n",
    "\n",
    "# Create a proper 'Date' column\n",
    "df_long['Date'] = pd.to_datetime(df_long['RECORD_YEAR'].astype(str) + df_long['Day'].str[3:], \n",
    "                                 format='%Y%m%d', errors='coerce')\n",
    "\n",
    "# Convert Discharge to numeric\n",
    "df_long['Discharge (CFS)'] = pd.to_numeric(df_long['Discharge (CFS)'], errors='coerce')\n",
    "\n",
    "# 🔹 Ensure correct sorting by year and day\n",
    "df_long = df_long.sort_values(by=['RECORD_YEAR', 'Day_Number'])\n",
    "\n",
    "# Select final columns\n",
    "df_long = df_long[['STATION_ID', 'RECORD_YEAR', 'Day', 'Date', 'Discharge (CFS)']]\n",
    "\n",
    "# 🔹 Save the correctly sorted data to CSV\n",
    "output_filename = \"station_10987_rearranged.csv\"\n",
    "df_long.to_csv(output_filename, index=False, date_format='%m/%d/%Y')  # Ensures proper date format\n",
    "\n",
    "# 🔹 Print first 10 rows to confirm correct sorting\n",
    "print(df_long.head(10))\n",
    "\n",
    "print(f\"\\n✅ Data has been saved correctly in {output_filename}\")"
   ]
  }
 ],
 "metadata": {
  "kernelspec": {
   "display_name": "Python 3 (ipykernel)",
   "language": "python",
   "name": "python3"
  },
  "language_info": {
   "codemirror_mode": {
    "name": "ipython",
    "version": 3
   },
   "file_extension": ".py",
   "mimetype": "text/x-python",
   "name": "python",
   "nbconvert_exporter": "python",
   "pygments_lexer": "ipython3",
   "version": "3.12.7"
  }
 },
 "nbformat": 4,
 "nbformat_minor": 5
}
